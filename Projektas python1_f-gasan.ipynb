{
 "cells": [
  {
   "cell_type": "markdown",
   "metadata": {},
   "source": [
    "#### Įsikeliame duomenų analizei reikalingus modulius:"
   ]
  },
  {
   "cell_type": "code",
   "execution_count": 1,
   "metadata": {},
   "outputs": [],
   "source": [
    "import pandas as pd\n",
    "import numpy as np\n",
    "import seaborn as sns\n",
    "\n",
    "from scipy import stats\n",
    "\n",
    "import matplotlib.pyplot as plt\n",
    "import matplotlib.mlab as mlab\n",
    "import matplotlib\n",
    "plt.style.use('ggplot')"
   ]
  },
  {
   "cell_type": "markdown",
   "metadata": {},
   "source": [
    "#### Nurodome duomenų vietą:"
   ]
  },
  {
   "cell_type": "code",
   "execution_count": 2,
   "metadata": {},
   "outputs": [],
   "source": [
    "df = pd.read_csv(r\"C:\\Users\\vomba\\Desktop\\ProgProj\\FluorDujos.csv\")"
   ]
  },
  {
   "cell_type": "markdown",
   "metadata": {},
   "source": [
    "#### Peržiūrime duomenis"
   ]
  },
  {
   "cell_type": "code",
   "execution_count": 3,
   "metadata": {},
   "outputs": [
    {
     "data": {
      "text/html": [
       "<div>\n",
       "<style scoped>\n",
       "    .dataframe tbody tr th:only-of-type {\n",
       "        vertical-align: middle;\n",
       "    }\n",
       "\n",
       "    .dataframe tbody tr th {\n",
       "        vertical-align: top;\n",
       "    }\n",
       "\n",
       "    .dataframe thead th {\n",
       "        text-align: right;\n",
       "    }\n",
       "</style>\n",
       "<table border=\"1\" class=\"dataframe\">\n",
       "  <thead>\n",
       "    <tr style=\"text-align: right;\">\n",
       "      <th></th>\n",
       "      <th>_type</th>\n",
       "      <th>_id</th>\n",
       "      <th>_revision</th>\n",
       "      <th>_page.next</th>\n",
       "      <th>eil_nr</th>\n",
       "      <th>kodas</th>\n",
       "      <th>trumpinys</th>\n",
       "      <th>salis</th>\n",
       "      <th>veiksmas</th>\n",
       "      <th>kiekis</th>\n",
       "      <th>atsiskaityta</th>\n",
       "      <th>prigimtis</th>\n",
       "    </tr>\n",
       "  </thead>\n",
       "  <tbody>\n",
       "    <tr>\n",
       "      <th>0</th>\n",
       "      <td>datasets/gov/aaa/fdujos/FluorDujos</td>\n",
       "      <td>00172eff-d247-4756-abe7-20bc737101c9</td>\n",
       "      <td>41fe5b4d-ebe0-4a1c-a07e-b6336ef60ae4</td>\n",
       "      <td>NaN</td>\n",
       "      <td>a131012effc535c</td>\n",
       "      <td>R448A</td>\n",
       "      <td>NaN</td>\n",
       "      <td>Latvija</td>\n",
       "      <td>IS</td>\n",
       "      <td>60.00</td>\n",
       "      <td>2019</td>\n",
       "      <td>NE</td>\n",
       "    </tr>\n",
       "    <tr>\n",
       "      <th>1</th>\n",
       "      <td>datasets/gov/aaa/fdujos/FluorDujos</td>\n",
       "      <td>003a64f5-42bd-4037-a96d-c1b44c88d3e6</td>\n",
       "      <td>345c9106-8007-4fc3-a7e7-c165f53f16e3</td>\n",
       "      <td>NaN</td>\n",
       "      <td>5fe0636a1f5ca7d</td>\n",
       "      <td>NaN</td>\n",
       "      <td>HFC-32</td>\n",
       "      <td>Prancūzija</td>\n",
       "      <td>IV</td>\n",
       "      <td>8670.00</td>\n",
       "      <td>2019</td>\n",
       "      <td>NE</td>\n",
       "    </tr>\n",
       "    <tr>\n",
       "      <th>2</th>\n",
       "      <td>datasets/gov/aaa/fdujos/FluorDujos</td>\n",
       "      <td>0049f40c-084b-4b8f-b1ae-d94a9f1069a4</td>\n",
       "      <td>94648a8a-ebb9-4a71-a86c-8204b5bd4224</td>\n",
       "      <td>NaN</td>\n",
       "      <td>b78f6a5df8738e2</td>\n",
       "      <td>R410A</td>\n",
       "      <td>NaN</td>\n",
       "      <td>Slovakija</td>\n",
       "      <td>IS</td>\n",
       "      <td>11.50</td>\n",
       "      <td>2016</td>\n",
       "      <td>NE</td>\n",
       "    </tr>\n",
       "    <tr>\n",
       "      <th>3</th>\n",
       "      <td>datasets/gov/aaa/fdujos/FluorDujos</td>\n",
       "      <td>004e089d-890c-4346-82fa-9ec06bced3fc</td>\n",
       "      <td>f42c0e88-c08d-4814-ac9b-233d0112f447</td>\n",
       "      <td>NaN</td>\n",
       "      <td>8dfcb61a7a95992</td>\n",
       "      <td>R407F</td>\n",
       "      <td>NaN</td>\n",
       "      <td>Švedija</td>\n",
       "      <td>IV</td>\n",
       "      <td>514.00</td>\n",
       "      <td>2018</td>\n",
       "      <td>NE</td>\n",
       "    </tr>\n",
       "    <tr>\n",
       "      <th>4</th>\n",
       "      <td>datasets/gov/aaa/fdujos/FluorDujos</td>\n",
       "      <td>0076b9ab-8323-4c57-b79a-c4681b15545a</td>\n",
       "      <td>aa765256-131d-4fb7-bb07-27a55af2917a</td>\n",
       "      <td>NaN</td>\n",
       "      <td>ddb60b4631fd951</td>\n",
       "      <td>NaN</td>\n",
       "      <td>HFC-134a</td>\n",
       "      <td>Estija</td>\n",
       "      <td>IS</td>\n",
       "      <td>4193.09</td>\n",
       "      <td>2020</td>\n",
       "      <td>NE</td>\n",
       "    </tr>\n",
       "  </tbody>\n",
       "</table>\n",
       "</div>"
      ],
      "text/plain": [
       "                                _type                                   _id  \\\n",
       "0  datasets/gov/aaa/fdujos/FluorDujos  00172eff-d247-4756-abe7-20bc737101c9   \n",
       "1  datasets/gov/aaa/fdujos/FluorDujos  003a64f5-42bd-4037-a96d-c1b44c88d3e6   \n",
       "2  datasets/gov/aaa/fdujos/FluorDujos  0049f40c-084b-4b8f-b1ae-d94a9f1069a4   \n",
       "3  datasets/gov/aaa/fdujos/FluorDujos  004e089d-890c-4346-82fa-9ec06bced3fc   \n",
       "4  datasets/gov/aaa/fdujos/FluorDujos  0076b9ab-8323-4c57-b79a-c4681b15545a   \n",
       "\n",
       "                              _revision _page.next           eil_nr  kodas  \\\n",
       "0  41fe5b4d-ebe0-4a1c-a07e-b6336ef60ae4        NaN  a131012effc535c  R448A   \n",
       "1  345c9106-8007-4fc3-a7e7-c165f53f16e3        NaN  5fe0636a1f5ca7d    NaN   \n",
       "2  94648a8a-ebb9-4a71-a86c-8204b5bd4224        NaN  b78f6a5df8738e2  R410A   \n",
       "3  f42c0e88-c08d-4814-ac9b-233d0112f447        NaN  8dfcb61a7a95992  R407F   \n",
       "4  aa765256-131d-4fb7-bb07-27a55af2917a        NaN  ddb60b4631fd951    NaN   \n",
       "\n",
       "  trumpinys       salis veiksmas   kiekis  atsiskaityta prigimtis  \n",
       "0       NaN     Latvija       IS    60.00          2019        NE  \n",
       "1    HFC-32  Prancūzija       IV  8670.00          2019        NE  \n",
       "2       NaN   Slovakija       IS    11.50          2016        NE  \n",
       "3       NaN     Švedija       IV   514.00          2018        NE  \n",
       "4  HFC-134a      Estija       IS  4193.09          2020        NE  "
      ]
     },
     "execution_count": 3,
     "metadata": {},
     "output_type": "execute_result"
    }
   ],
   "source": [
    "df.head()"
   ]
  },
  {
   "cell_type": "markdown",
   "metadata": {},
   "source": [
    "#### Pašaliname stulpelius su kuriais nebus atliekama duomenų analizė:"
   ]
  },
  {
   "cell_type": "code",
   "execution_count": 4,
   "metadata": {},
   "outputs": [],
   "source": [
    "df.drop(columns=['_type', '_id', '_revision', '_page.next'], inplace= True)"
   ]
  },
  {
   "cell_type": "markdown",
   "metadata": {},
   "source": [
    "### Pakeičiame stulpelių pavadinimus patogesniais"
   ]
  },
  {
   "cell_type": "code",
   "execution_count": 5,
   "metadata": {},
   "outputs": [],
   "source": [
    "df.rename(columns={'atsiskaityta':'metai'}, inplace=True)"
   ]
  },
  {
   "cell_type": "markdown",
   "metadata": {},
   "source": [
    "#### Pašaliname pasikartojančias reikšmes:"
   ]
  },
  {
   "cell_type": "code",
   "execution_count": 6,
   "metadata": {},
   "outputs": [
    {
     "data": {
      "text/html": [
       "<div>\n",
       "<style scoped>\n",
       "    .dataframe tbody tr th:only-of-type {\n",
       "        vertical-align: middle;\n",
       "    }\n",
       "\n",
       "    .dataframe tbody tr th {\n",
       "        vertical-align: top;\n",
       "    }\n",
       "\n",
       "    .dataframe thead th {\n",
       "        text-align: right;\n",
       "    }\n",
       "</style>\n",
       "<table border=\"1\" class=\"dataframe\">\n",
       "  <thead>\n",
       "    <tr style=\"text-align: right;\">\n",
       "      <th></th>\n",
       "      <th>eil_nr</th>\n",
       "      <th>kodas</th>\n",
       "      <th>trumpinys</th>\n",
       "      <th>salis</th>\n",
       "      <th>veiksmas</th>\n",
       "      <th>kiekis</th>\n",
       "      <th>metai</th>\n",
       "      <th>prigimtis</th>\n",
       "    </tr>\n",
       "  </thead>\n",
       "  <tbody>\n",
       "    <tr>\n",
       "      <th>0</th>\n",
       "      <td>a131012effc535c</td>\n",
       "      <td>R448A</td>\n",
       "      <td>NaN</td>\n",
       "      <td>Latvija</td>\n",
       "      <td>IS</td>\n",
       "      <td>60.000</td>\n",
       "      <td>2019</td>\n",
       "      <td>NE</td>\n",
       "    </tr>\n",
       "    <tr>\n",
       "      <th>1</th>\n",
       "      <td>5fe0636a1f5ca7d</td>\n",
       "      <td>NaN</td>\n",
       "      <td>HFC-32</td>\n",
       "      <td>Prancūzija</td>\n",
       "      <td>IV</td>\n",
       "      <td>8670.000</td>\n",
       "      <td>2019</td>\n",
       "      <td>NE</td>\n",
       "    </tr>\n",
       "    <tr>\n",
       "      <th>2</th>\n",
       "      <td>b78f6a5df8738e2</td>\n",
       "      <td>R410A</td>\n",
       "      <td>NaN</td>\n",
       "      <td>Slovakija</td>\n",
       "      <td>IS</td>\n",
       "      <td>11.500</td>\n",
       "      <td>2016</td>\n",
       "      <td>NE</td>\n",
       "    </tr>\n",
       "    <tr>\n",
       "      <th>3</th>\n",
       "      <td>8dfcb61a7a95992</td>\n",
       "      <td>R407F</td>\n",
       "      <td>NaN</td>\n",
       "      <td>Švedija</td>\n",
       "      <td>IV</td>\n",
       "      <td>514.000</td>\n",
       "      <td>2018</td>\n",
       "      <td>NE</td>\n",
       "    </tr>\n",
       "    <tr>\n",
       "      <th>4</th>\n",
       "      <td>ddb60b4631fd951</td>\n",
       "      <td>NaN</td>\n",
       "      <td>HFC-134a</td>\n",
       "      <td>Estija</td>\n",
       "      <td>IS</td>\n",
       "      <td>4193.090</td>\n",
       "      <td>2020</td>\n",
       "      <td>NE</td>\n",
       "    </tr>\n",
       "    <tr>\n",
       "      <th>...</th>\n",
       "      <td>...</td>\n",
       "      <td>...</td>\n",
       "      <td>...</td>\n",
       "      <td>...</td>\n",
       "      <td>...</td>\n",
       "      <td>...</td>\n",
       "      <td>...</td>\n",
       "      <td>...</td>\n",
       "    </tr>\n",
       "    <tr>\n",
       "      <th>1126</th>\n",
       "      <td>52d0c46e91145c9</td>\n",
       "      <td>NaN</td>\n",
       "      <td>HFC-134a</td>\n",
       "      <td>Suomija</td>\n",
       "      <td>IS</td>\n",
       "      <td>7792.730</td>\n",
       "      <td>2022</td>\n",
       "      <td>NE</td>\n",
       "    </tr>\n",
       "    <tr>\n",
       "      <th>1127</th>\n",
       "      <td>7ba6c6c50d7686d</td>\n",
       "      <td>R410A</td>\n",
       "      <td>NaN</td>\n",
       "      <td>Latvija</td>\n",
       "      <td>IV</td>\n",
       "      <td>105.000</td>\n",
       "      <td>2018</td>\n",
       "      <td>NE</td>\n",
       "    </tr>\n",
       "    <tr>\n",
       "      <th>1128</th>\n",
       "      <td>88c5ceb83cfab39</td>\n",
       "      <td>NaN</td>\n",
       "      <td>HFC-125</td>\n",
       "      <td>Kinija</td>\n",
       "      <td>IM</td>\n",
       "      <td>85957.000</td>\n",
       "      <td>2015</td>\n",
       "      <td>NE</td>\n",
       "    </tr>\n",
       "    <tr>\n",
       "      <th>1129</th>\n",
       "      <td>86fd73d9dc2fb6a</td>\n",
       "      <td>NaN</td>\n",
       "      <td>CFC-11</td>\n",
       "      <td>Vokietija</td>\n",
       "      <td>EK</td>\n",
       "      <td>1811.299</td>\n",
       "      <td>2015</td>\n",
       "      <td>NaN</td>\n",
       "    </tr>\n",
       "    <tr>\n",
       "      <th>1130</th>\n",
       "      <td>044f157336d486b</td>\n",
       "      <td>NaN</td>\n",
       "      <td>HFC-32</td>\n",
       "      <td>Lenkija</td>\n",
       "      <td>IV</td>\n",
       "      <td>9000.000</td>\n",
       "      <td>2021</td>\n",
       "      <td>NE</td>\n",
       "    </tr>\n",
       "  </tbody>\n",
       "</table>\n",
       "<p>1131 rows × 8 columns</p>\n",
       "</div>"
      ],
      "text/plain": [
       "               eil_nr  kodas trumpinys       salis veiksmas     kiekis  metai  \\\n",
       "0     a131012effc535c  R448A       NaN     Latvija       IS     60.000   2019   \n",
       "1     5fe0636a1f5ca7d    NaN    HFC-32  Prancūzija       IV   8670.000   2019   \n",
       "2     b78f6a5df8738e2  R410A       NaN   Slovakija       IS     11.500   2016   \n",
       "3     8dfcb61a7a95992  R407F       NaN     Švedija       IV    514.000   2018   \n",
       "4     ddb60b4631fd951    NaN  HFC-134a      Estija       IS   4193.090   2020   \n",
       "...               ...    ...       ...         ...      ...        ...    ...   \n",
       "1126  52d0c46e91145c9    NaN  HFC-134a     Suomija       IS   7792.730   2022   \n",
       "1127  7ba6c6c50d7686d  R410A       NaN     Latvija       IV    105.000   2018   \n",
       "1128  88c5ceb83cfab39    NaN   HFC-125      Kinija       IM  85957.000   2015   \n",
       "1129  86fd73d9dc2fb6a    NaN    CFC-11   Vokietija       EK   1811.299   2015   \n",
       "1130  044f157336d486b    NaN    HFC-32     Lenkija       IV   9000.000   2021   \n",
       "\n",
       "     prigimtis  \n",
       "0           NE  \n",
       "1           NE  \n",
       "2           NE  \n",
       "3           NE  \n",
       "4           NE  \n",
       "...        ...  \n",
       "1126        NE  \n",
       "1127        NE  \n",
       "1128        NE  \n",
       "1129       NaN  \n",
       "1130        NE  \n",
       "\n",
       "[1131 rows x 8 columns]"
      ]
     },
     "execution_count": 6,
     "metadata": {},
     "output_type": "execute_result"
    }
   ],
   "source": [
    "df.drop_duplicates()"
   ]
  },
  {
   "cell_type": "markdown",
   "metadata": {},
   "source": [
    "#### Pašaliname nulines vertes:"
   ]
  },
  {
   "cell_type": "code",
   "execution_count": null,
   "metadata": {},
   "outputs": [],
   "source": []
  },
  {
   "cell_type": "markdown",
   "metadata": {},
   "source": [
    "#### Pasitikriname duomenų struktūra visų stulpelių"
   ]
  },
  {
   "cell_type": "code",
   "execution_count": 7,
   "metadata": {},
   "outputs": [
    {
     "name": "stdout",
     "output_type": "stream",
     "text": [
      "eil_nr        object\n",
      "kodas         object\n",
      "trumpinys     object\n",
      "salis         object\n",
      "veiksmas      object\n",
      "kiekis       float64\n",
      "metai          int64\n",
      "prigimtis     object\n",
      "dtype: object\n"
     ]
    }
   ],
   "source": [
    "print(df.dtypes)"
   ]
  },
  {
   "cell_type": "markdown",
   "metadata": {},
   "source": [
    "#### Surikiuojame duomenis pagal norimą stulpelį:"
   ]
  },
  {
   "cell_type": "code",
   "execution_count": 8,
   "metadata": {},
   "outputs": [
    {
     "name": "stdout",
     "output_type": "stream",
     "text": [
      "Kodas1\n",
      "HFC-134a      2.832276e+06\n",
      "HFC-125       2.050486e+06\n",
      "HFC-32        1.161138e+06\n",
      "HFC-143a      1.006865e+06\n",
      "HFC-152a      3.800000e+05\n",
      "R404A         1.696250e+05\n",
      "R410A         1.632707e+05\n",
      "HFC-1234YF    1.400461e+05\n",
      "R407C         9.157900e+04\n",
      "R448A         2.737000e+04\n",
      "Name: kiekis, dtype: float64\n"
     ]
    }
   ],
   "source": [
    "df['Kodas1']=df['kodas'].fillna('') + df['trumpinys'].fillna('')\n",
    "gr=df.groupby('Kodas1')['kiekis'].sum()\n",
    "asc5= gr.sort_values(ascending=False).head(10)\n",
    "print(asc5)"
   ]
  },
  {
   "cell_type": "markdown",
   "metadata": {},
   "source": [
    "#### Bar chart:"
   ]
  },
  {
   "cell_type": "code",
   "execution_count": 9,
   "metadata": {},
   "outputs": [
    {
     "data": {
      "image/png": "[encoded data removed]",
      "text/plain": [
       "<Figure size 640x480 with 1 Axes>"
      ]
     },
     "metadata": {},
     "output_type": "display_data"
    }
   ],
   "source": [
    "asc5.plot(kind='bar')\n",
    "plt.xlabel('Kodas1')\n",
    "plt.ylabel('Sum of kiekis')\n",
    "plt.show()"
   ]
  },
  {
   "cell_type": "markdown",
   "metadata": {},
   "source": [
    "#### Surandame HFC-134a importo duomenis pagal metus ir šalį"
   ]
  },
  {
   "cell_type": "code",
   "execution_count": null,
   "metadata": {},
   "outputs": [],
   "source": []
  },
  {
   "cell_type": "code",
   "execution_count": 10,
   "metadata": {},
   "outputs": [],
   "source": [
    "df['naujas']=df['kodas'].fillna('') + df['trumpinys'].fillna('')\n",
    "df[['naujas', 'kodas', 'trumpinys']]\n",
    "r=df.groupby(by=['metai','naujas'], as_index=False)['kiekis'].sum()\n",
    "df2 = r.pivot(index='metai', columns='naujas', values='kiekis').drop(index=2023)"
   ]
  },
  {
   "cell_type": "code",
   "execution_count": 11,
   "metadata": {},
   "outputs": [
    {
     "data": {
      "text/plain": [
       "<Axes: xlabel='metai'>"
      ]
     },
     "execution_count": 11,
     "metadata": {},
     "output_type": "execute_result"
    },
    {
     "data": {
      "image/png": "[encoded data removed]",
      "text/plain": [
       "<Figure size 640x480 with 1 Axes>"
      ]
     },
     "metadata": {},
     "output_type": "display_data"
    }
   ],
   "source": [
    "df2[['HFC-143a','HFC-134a','HFC-125']].plot(kind='bar')"
   ]
  },
  {
   "cell_type": "code",
   "execution_count": 12,
   "metadata": {},
   "outputs": [
    {
     "ename": "KeyError",
     "evalue": "\"['procentai'] not found in axis\"",
     "output_type": "error",
     "traceback": [
      "\u001b[1;31m---------------------------------------------------------------------------\u001b[0m",
      "\u001b[1;31mKeyError\u001b[0m                                  Traceback (most recent call last)",
      "Cell \u001b[1;32mIn[12], line 6\u001b[0m\n\u001b[0;32m      2\u001b[0m metai\u001b[38;5;241m=\u001b[39m\u001b[38;5;241m2017\u001b[39m\n\u001b[0;32m      5\u001b[0m suma\u001b[38;5;241m=\u001b[39mdf[(df[\u001b[38;5;124m'\u001b[39m\u001b[38;5;124mmetai\u001b[39m\u001b[38;5;124m'\u001b[39m]\u001b[38;5;241m==\u001b[39mmetai)\u001b[38;5;241m&\u001b[39m(df[\u001b[38;5;124m'\u001b[39m\u001b[38;5;124mnaujas\u001b[39m\u001b[38;5;124m'\u001b[39m]\u001b[38;5;241m==\u001b[39mfdujos)\u001b[38;5;241m&\u001b[39m(df[\u001b[38;5;124m'\u001b[39m\u001b[38;5;124mkiekis\u001b[39m\u001b[38;5;124m'\u001b[39m])]\n\u001b[1;32m----> 6\u001b[0m \u001b[43msuma\u001b[49m\u001b[38;5;241;43m.\u001b[39;49m\u001b[43mdrop\u001b[49m\u001b[43m(\u001b[49m\u001b[43mcolumns\u001b[49m\u001b[38;5;241;43m=\u001b[39;49m\u001b[43m[\u001b[49m\u001b[38;5;124;43m'\u001b[39;49m\u001b[38;5;124;43mprocentai\u001b[39;49m\u001b[38;5;124;43m'\u001b[39;49m\u001b[43m,\u001b[49m\u001b[38;5;124;43m'\u001b[39;49m\u001b[38;5;124;43meil_nr\u001b[39;49m\u001b[38;5;124;43m'\u001b[39;49m\u001b[43m,\u001b[49m\u001b[38;5;124;43m'\u001b[39;49m\u001b[38;5;124;43mveiksmas\u001b[39;49m\u001b[38;5;124;43m'\u001b[39;49m\u001b[43m,\u001b[49m\u001b[43m \u001b[49m\u001b[38;5;124;43m'\u001b[39;49m\u001b[38;5;124;43mprigimtis\u001b[39;49m\u001b[38;5;124;43m'\u001b[39;49m\u001b[43m]\u001b[49m\u001b[43m)\u001b[49m\n\u001b[0;32m      7\u001b[0m suma \u001b[38;5;241m=\u001b[39m suma\u001b[38;5;241m.\u001b[39mset_index(\u001b[38;5;124m'\u001b[39m\u001b[38;5;124msalis\u001b[39m\u001b[38;5;124m'\u001b[39m)\n\u001b[0;32m      8\u001b[0m pf\u001b[38;5;241m=\u001b[39msuma\u001b[38;5;241m.\u001b[39mgroupby(\u001b[38;5;124m'\u001b[39m\u001b[38;5;124msalis\u001b[39m\u001b[38;5;124m'\u001b[39m)[\u001b[38;5;124m'\u001b[39m\u001b[38;5;124mkiekis\u001b[39m\u001b[38;5;124m'\u001b[39m]\u001b[38;5;241m.\u001b[39msum()\n",
      "File \u001b[1;32mc:\\Users\\vomba\\AppData\\Local\\Programs\\Python\\Python313\\Lib\\site-packages\\pandas\\core\\frame.py:5581\u001b[0m, in \u001b[0;36mDataFrame.drop\u001b[1;34m(self, labels, axis, index, columns, level, inplace, errors)\u001b[0m\n\u001b[0;32m   5433\u001b[0m \u001b[38;5;28;01mdef\u001b[39;00m \u001b[38;5;21mdrop\u001b[39m(\n\u001b[0;32m   5434\u001b[0m     \u001b[38;5;28mself\u001b[39m,\n\u001b[0;32m   5435\u001b[0m     labels: IndexLabel \u001b[38;5;241m|\u001b[39m \u001b[38;5;28;01mNone\u001b[39;00m \u001b[38;5;241m=\u001b[39m \u001b[38;5;28;01mNone\u001b[39;00m,\n\u001b[1;32m   (...)\u001b[0m\n\u001b[0;32m   5442\u001b[0m     errors: IgnoreRaise \u001b[38;5;241m=\u001b[39m \u001b[38;5;124m\"\u001b[39m\u001b[38;5;124mraise\u001b[39m\u001b[38;5;124m\"\u001b[39m,\n\u001b[0;32m   5443\u001b[0m ) \u001b[38;5;241m-\u001b[39m\u001b[38;5;241m>\u001b[39m DataFrame \u001b[38;5;241m|\u001b[39m \u001b[38;5;28;01mNone\u001b[39;00m:\n\u001b[0;32m   5444\u001b[0m \u001b[38;5;250m    \u001b[39m\u001b[38;5;124;03m\"\"\"\u001b[39;00m\n\u001b[0;32m   5445\u001b[0m \u001b[38;5;124;03m    Drop specified labels from rows or columns.\u001b[39;00m\n\u001b[0;32m   5446\u001b[0m \n\u001b[1;32m   (...)\u001b[0m\n\u001b[0;32m   5579\u001b[0m \u001b[38;5;124;03m            weight  1.0     0.8\u001b[39;00m\n\u001b[0;32m   5580\u001b[0m \u001b[38;5;124;03m    \"\"\"\u001b[39;00m\n\u001b[1;32m-> 5581\u001b[0m     \u001b[38;5;28;01mreturn\u001b[39;00m \u001b[38;5;28;43msuper\u001b[39;49m\u001b[43m(\u001b[49m\u001b[43m)\u001b[49m\u001b[38;5;241;43m.\u001b[39;49m\u001b[43mdrop\u001b[49m\u001b[43m(\u001b[49m\n\u001b[0;32m   5582\u001b[0m \u001b[43m        \u001b[49m\u001b[43mlabels\u001b[49m\u001b[38;5;241;43m=\u001b[39;49m\u001b[43mlabels\u001b[49m\u001b[43m,\u001b[49m\n\u001b[0;32m   5583\u001b[0m \u001b[43m        \u001b[49m\u001b[43maxis\u001b[49m\u001b[38;5;241;43m=\u001b[39;49m\u001b[43maxis\u001b[49m\u001b[43m,\u001b[49m\n\u001b[0;32m   5584\u001b[0m \u001b[43m        \u001b[49m\u001b[43mindex\u001b[49m\u001b[38;5;241;43m=\u001b[39;49m\u001b[43mindex\u001b[49m\u001b[43m,\u001b[49m\n\u001b[0;32m   5585\u001b[0m \u001b[43m        \u001b[49m\u001b[43mcolumns\u001b[49m\u001b[38;5;241;43m=\u001b[39;49m\u001b[43mcolumns\u001b[49m\u001b[43m,\u001b[49m\n\u001b[0;32m   5586\u001b[0m \u001b[43m        \u001b[49m\u001b[43mlevel\u001b[49m\u001b[38;5;241;43m=\u001b[39;49m\u001b[43mlevel\u001b[49m\u001b[43m,\u001b[49m\n\u001b[0;32m   5587\u001b[0m \u001b[43m        \u001b[49m\u001b[43minplace\u001b[49m\u001b[38;5;241;43m=\u001b[39;49m\u001b[43minplace\u001b[49m\u001b[43m,\u001b[49m\n\u001b[0;32m   5588\u001b[0m \u001b[43m        \u001b[49m\u001b[43merrors\u001b[49m\u001b[38;5;241;43m=\u001b[39;49m\u001b[43merrors\u001b[49m\u001b[43m,\u001b[49m\n\u001b[0;32m   5589\u001b[0m \u001b[43m    \u001b[49m\u001b[43m)\u001b[49m\n",
      "File \u001b[1;32mc:\\Users\\vomba\\AppData\\Local\\Programs\\Python\\Python313\\Lib\\site-packages\\pandas\\core\\generic.py:4788\u001b[0m, in \u001b[0;36mNDFrame.drop\u001b[1;34m(self, labels, axis, index, columns, level, inplace, errors)\u001b[0m\n\u001b[0;32m   4786\u001b[0m \u001b[38;5;28;01mfor\u001b[39;00m axis, labels \u001b[38;5;129;01min\u001b[39;00m axes\u001b[38;5;241m.\u001b[39mitems():\n\u001b[0;32m   4787\u001b[0m     \u001b[38;5;28;01mif\u001b[39;00m labels \u001b[38;5;129;01mis\u001b[39;00m \u001b[38;5;129;01mnot\u001b[39;00m \u001b[38;5;28;01mNone\u001b[39;00m:\n\u001b[1;32m-> 4788\u001b[0m         obj \u001b[38;5;241m=\u001b[39m \u001b[43mobj\u001b[49m\u001b[38;5;241;43m.\u001b[39;49m\u001b[43m_drop_axis\u001b[49m\u001b[43m(\u001b[49m\u001b[43mlabels\u001b[49m\u001b[43m,\u001b[49m\u001b[43m \u001b[49m\u001b[43maxis\u001b[49m\u001b[43m,\u001b[49m\u001b[43m \u001b[49m\u001b[43mlevel\u001b[49m\u001b[38;5;241;43m=\u001b[39;49m\u001b[43mlevel\u001b[49m\u001b[43m,\u001b[49m\u001b[43m \u001b[49m\u001b[43merrors\u001b[49m\u001b[38;5;241;43m=\u001b[39;49m\u001b[43merrors\u001b[49m\u001b[43m)\u001b[49m\n\u001b[0;32m   4790\u001b[0m \u001b[38;5;28;01mif\u001b[39;00m inplace:\n\u001b[0;32m   4791\u001b[0m     \u001b[38;5;28mself\u001b[39m\u001b[38;5;241m.\u001b[39m_update_inplace(obj)\n",
      "File \u001b[1;32mc:\\Users\\vomba\\AppData\\Local\\Programs\\Python\\Python313\\Lib\\site-packages\\pandas\\core\\generic.py:4830\u001b[0m, in \u001b[0;36mNDFrame._drop_axis\u001b[1;34m(self, labels, axis, level, errors, only_slice)\u001b[0m\n\u001b[0;32m   4828\u001b[0m         new_axis \u001b[38;5;241m=\u001b[39m axis\u001b[38;5;241m.\u001b[39mdrop(labels, level\u001b[38;5;241m=\u001b[39mlevel, errors\u001b[38;5;241m=\u001b[39merrors)\n\u001b[0;32m   4829\u001b[0m     \u001b[38;5;28;01melse\u001b[39;00m:\n\u001b[1;32m-> 4830\u001b[0m         new_axis \u001b[38;5;241m=\u001b[39m \u001b[43maxis\u001b[49m\u001b[38;5;241;43m.\u001b[39;49m\u001b[43mdrop\u001b[49m\u001b[43m(\u001b[49m\u001b[43mlabels\u001b[49m\u001b[43m,\u001b[49m\u001b[43m \u001b[49m\u001b[43merrors\u001b[49m\u001b[38;5;241;43m=\u001b[39;49m\u001b[43merrors\u001b[49m\u001b[43m)\u001b[49m\n\u001b[0;32m   4831\u001b[0m     indexer \u001b[38;5;241m=\u001b[39m axis\u001b[38;5;241m.\u001b[39mget_indexer(new_axis)\n\u001b[0;32m   4833\u001b[0m \u001b[38;5;66;03m# Case for non-unique axis\u001b[39;00m\n\u001b[0;32m   4834\u001b[0m \u001b[38;5;28;01melse\u001b[39;00m:\n",
      "File \u001b[1;32mc:\\Users\\vomba\\AppData\\Local\\Programs\\Python\\Python313\\Lib\\site-packages\\pandas\\core\\indexes\\base.py:7070\u001b[0m, in \u001b[0;36mIndex.drop\u001b[1;34m(self, labels, errors)\u001b[0m\n\u001b[0;32m   7068\u001b[0m \u001b[38;5;28;01mif\u001b[39;00m mask\u001b[38;5;241m.\u001b[39many():\n\u001b[0;32m   7069\u001b[0m     \u001b[38;5;28;01mif\u001b[39;00m errors \u001b[38;5;241m!=\u001b[39m \u001b[38;5;124m\"\u001b[39m\u001b[38;5;124mignore\u001b[39m\u001b[38;5;124m\"\u001b[39m:\n\u001b[1;32m-> 7070\u001b[0m         \u001b[38;5;28;01mraise\u001b[39;00m \u001b[38;5;167;01mKeyError\u001b[39;00m(\u001b[38;5;124mf\u001b[39m\u001b[38;5;124m\"\u001b[39m\u001b[38;5;132;01m{\u001b[39;00mlabels[mask]\u001b[38;5;241m.\u001b[39mtolist()\u001b[38;5;132;01m}\u001b[39;00m\u001b[38;5;124m not found in axis\u001b[39m\u001b[38;5;124m\"\u001b[39m)\n\u001b[0;32m   7071\u001b[0m     indexer \u001b[38;5;241m=\u001b[39m indexer[\u001b[38;5;241m~\u001b[39mmask]\n\u001b[0;32m   7072\u001b[0m \u001b[38;5;28;01mreturn\u001b[39;00m \u001b[38;5;28mself\u001b[39m\u001b[38;5;241m.\u001b[39mdelete(indexer)\n",
      "\u001b[1;31mKeyError\u001b[0m: \"['procentai'] not found in axis\""
     ]
    }
   ],
   "source": [
    "fdujos='HFC-32'\n",
    "metai=2017\n",
    "\n",
    "\n",
    "suma=df[(df['metai']==metai)&(df['naujas']==fdujos)&(df['kiekis'])]\n",
    "suma.drop(columns=['procentai','eil_nr','veiksmas', 'prigimtis'])\n",
    "suma = suma.set_index('salis')\n",
    "pf=suma.groupby('salis')['kiekis'].sum()\n",
    "suma['procentai']=(pf/pf.sum()*100)\n",
    "suma = suma.reset_index()\n",
    "ok=suma[['salis','procentai']].drop_duplicates()\n",
    "\n",
    "\n",
    "ok.sort_values('procentai', ascending=False).head(10).plot(kind='bar', x='salis', y='procentai', title='HFC-134a 2022')"
   ]
  }
 ],
 "metadata": {
  "kernelspec": {
   "display_name": "Python 3",
   "language": "python",
   "name": "python3"
  },
  "language_info": {
   "codemirror_mode": {
    "name": "ipython",
    "version": 3
   },
   "file_extension": ".py",
   "mimetype": "text/x-python",
   "name": "python",
   "nbconvert_exporter": "python",
   "pygments_lexer": "ipython3",
   "version": "3.13.1"
  }
 },
 "nbformat": 4,
 "nbformat_minor": 2
}
